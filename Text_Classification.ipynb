{
 "cells": [
  {
   "cell_type": "markdown",
   "id": "e01cdf76",
   "metadata": {},
   "source": [
    "## Text Classification"
   ]
  },
  {
   "cell_type": "code",
   "execution_count": 1,
   "id": "5c792c6a",
   "metadata": {},
   "outputs": [],
   "source": [
    "# importing the modules required.\n",
    "\n",
    "import os\n",
    "import string\n",
    "import numpy as np\n",
    "import pandas as pd\n",
    "import matplotlib.pyplot as plt"
   ]
  },
  {
   "cell_type": "code",
   "execution_count": 2,
   "id": "7039045f",
   "metadata": {},
   "outputs": [
    {
     "data": {
      "text/plain": [
       "['alt.atheism',\n",
       " 'comp.graphics',\n",
       " 'comp.os.ms-windows.misc',\n",
       " 'comp.sys.ibm.pc.hardware',\n",
       " 'comp.sys.mac.hardware',\n",
       " 'comp.windows.x',\n",
       " 'misc.forsale',\n",
       " 'rec.autos',\n",
       " 'rec.motorcycles',\n",
       " 'rec.sport.baseball',\n",
       " 'rec.sport.hockey',\n",
       " 'sci.crypt',\n",
       " 'sci.electronics',\n",
       " 'sci.med',\n",
       " 'sci.space',\n",
       " 'soc.religion.christian',\n",
       " 'talk.politics.guns',\n",
       " 'talk.politics.mideast',\n",
       " 'talk.politics.misc',\n",
       " 'talk.religion.misc']"
      ]
     },
     "execution_count": 2,
     "metadata": {},
     "output_type": "execute_result"
    }
   ],
   "source": [
    "# To get the list of all classes\n",
    "\n",
    "all_class_list = os.listdir(\"C:/Users/KIIT/OneDrive/Desktop/20_newsgroups\")\n",
    "all_class_list"
   ]
  },
  {
   "cell_type": "code",
   "execution_count": 3,
   "id": "5e469ae8",
   "metadata": {},
   "outputs": [],
   "source": [
    "X = []                 # an element of X is represented as (filename,text)\n",
    "Y = []                 # an element of Y represents the newsgroup category of the corresponding X element\n",
    "for target in all_class_list:\n",
    "    each_class_document = os.listdir(\"C:/Users/KIIT/OneDrive/Desktop/20_newsgroups/\"+target)\n",
    "    for doc in each_class_document:\n",
    "        with open(\"C:/Users/KIIT/OneDrive/Desktop/20_newsgroups/\"+target+\"/\"+doc) as file:\n",
    "            X.append((doc,file.read()))\n",
    "            Y.append(target)\n",
    "    "
   ]
  },
  {
   "cell_type": "code",
   "execution_count": 4,
   "id": "39eb63dd",
   "metadata": {},
   "outputs": [],
   "source": [
    "from sklearn import model_selection\n",
    "X_train, X_test, Y_train, Y_test = model_selection.train_test_split(X, Y, test_size=0.25, random_state=0)"
   ]
  },
  {
   "cell_type": "code",
   "execution_count": 5,
   "id": "b86e6dcc",
   "metadata": {},
   "outputs": [],
   "source": [
    "# List of stop-words from google which shouldn't effect our prediction.\n",
    "\n",
    "stopwords = ['a', 'about', 'above', 'across', 'after', 'afterwards', 'again', 'against', 'all', 'almost', 'alone',\n",
    "             'along', 'already', 'also', 'although', 'always', 'am', 'among', 'amongst', 'amoungst', 'amount',\n",
    "             'an', 'and', 'another', 'any', 'anyhow', 'anyone', 'anything', 'anyway', 'anywhere', 'are', 'around',\n",
    "             'as', 'at', 'back', 'be', 'became', 'because', 'become', 'becomes', 'becoming', 'been', 'before',\n",
    "             'beforehand', 'behind', 'being', 'below', 'beside', 'besides', 'between', 'beyond', 'bill', 'both',\n",
    "             'bottom', 'but', 'by', 'call', 'can', 'cannot', 'cant', 'co', 'con', 'could', 'couldnt', 'cry', 'de',\n",
    "             'describe', 'detail', 'did', 'do', 'does', 'doing', 'don', 'done', 'down', 'due', 'during', 'each', 'eg',\n",
    "             'eight', 'either', 'eleven', 'else', 'elsewhere', 'empty', 'enough', 'etc', 'even', 'ever', 'every', 'everyone',\n",
    "             'everything', 'everywhere', 'except', 'few', 'fifteen', 'fify', 'fill', 'find', 'fire', 'first', 'five', 'for',\n",
    "             'former', 'formerly', 'forty', 'found', 'four', 'from', 'front', 'full', 'further', 'get', 'give', 'go', 'had',\n",
    "             'has', 'hasnt', 'have', 'having', 'he', 'hence', 'her', 'here', 'hereafter', 'hereby', 'herein', 'hereupon',\n",
    "             'hers', 'herself', 'him', 'himself', 'his', 'how', 'however', 'hundred', 'i', 'ie', 'if', 'in', 'inc', 'indeed',\n",
    "             'interest', 'into', 'is', 'it', 'its', 'itself', 'just', 'keep', 'last', 'latter', 'latterly', 'least', 'less',\n",
    "             'ltd', 'made', 'many', 'may', 'me', 'meanwhile', 'might', 'mill', 'mine', 'more', 'moreover', 'most', 'mostly',\n",
    "             'move', 'much', 'must', 'my', 'myself', 'name', 'namely', 'neither', 'never', 'nevertheless', 'next', 'nine',\n",
    "             'no', 'nobody', 'none', 'noone', 'nor', 'not', 'nothing', 'now', 'nowhere', 'of', 'off', 'often', 'on', 'once',\n",
    "             'one', 'only', 'onto', 'or', 'other', 'others', 'otherwise', 'our', 'ours', 'ourselves', 'out', 'over', 'own',\n",
    "             'part', 'per', 'perhaps', 'please', 'put', 'rather', 're', 's', 'same', 'see', 'seem', 'seemed', 'seeming',\n",
    "             'seems', 'serious', 'several', 'she', 'should', 'show', 'side', 'since', 'sincere', 'six', 'sixty', 'so', \n",
    "             'some', 'somehow', 'someone', 'something', 'sometime', 'sometimes', 'somewhere', 'still', 'such', 'system',\n",
    "             't', 'take', 'ten', 'than', 'that', 'the', 'their', 'theirs', 'them', 'themselves', 'then', 'thence', 'there',\n",
    "             'thereafter', 'thereby', 'therefore', 'therein', 'thereupon', 'these', 'they', 'thickv', 'thin', 'third', 'this',\n",
    "             'those', 'though', 'three', 'through', 'throughout', 'thru', 'thus', 'to', 'together', 'too', 'top', 'toward',\n",
    "             'towards', 'twelve', 'twenty', 'two', 'un', 'under', 'until', 'up', 'upon', 'us', 'very', 'via', 'was', 'we',\n",
    "             'well', 'were', 'what', 'whatever', 'when', 'whence', 'whenever', 'where', 'whereafter', 'whereas', 'whereby',\n",
    "             'wherein', 'whereupon', 'wherever', 'whether', 'which', 'while', 'whither', 'who', 'whoever', 'whole', 'whom',\n",
    "             'whose', 'why', 'will', 'with', 'within', 'without', 'would', 'yet', 'you', 'your', 'yours', 'yourself',\n",
    "             'yourselves']"
   ]
  },
  {
   "cell_type": "code",
   "execution_count": 6,
   "id": "4dfe3cce",
   "metadata": {},
   "outputs": [],
   "source": [
    "# Building a vocabulary out of the given documents - \n",
    "\n",
    "#1 Go through all the documents\n",
    "#2 Within a document go through all the words\n",
    "#3 Ignore a word if it is a stop word or if its length is less than 2\n",
    "#4 Add the word in dictionary with count 1 if not already present else increase its count.\n",
    "#5 The vocabulary is ready."
   ]
  },
  {
   "cell_type": "code",
   "execution_count": 7,
   "id": "3c323eca",
   "metadata": {},
   "outputs": [],
   "source": [
    "# Code for the above algorithm...\n",
    "\n",
    "vocab = {}\n",
    "for i in range (len(X_train)):\n",
    "    word_list = []\n",
    "    for word in X_train[i][1].split():\n",
    "        # stripping the word of any punctuations and converting it to lower so that if the same word comes in different case\n",
    "        # it is not considered a different word.\n",
    "        word_new  = word.strip(string.punctuation).lower()\n",
    "        if (word_new not in stopwords) and (len(word_new) > 2):\n",
    "            if word_new in vocab:\n",
    "                vocab[word_new] += 1 \n",
    "            else:\n",
    "                vocab[word_new] = 1   "
   ]
  },
  {
   "cell_type": "code",
   "execution_count": 8,
   "id": "32a20870",
   "metadata": {},
   "outputs": [
    {
     "data": {
      "image/png": "[encoded data removed]",
      "text/plain": [
       "<Figure size 640x480 with 1 Axes>"
      ]
     },
     "metadata": {},
     "output_type": "display_data"
    }
   ],
   "source": [
    "#  Plotting a graph of no of words with a given frequency to decide cutoff drequency\n",
    "\n",
    "num_words = [0 for i in range(max(vocab.values())+1)]          # For y-axis\n",
    "freq = [i for i in range(max(vocab.values())+1)]               # For x-axis\n",
    "for key in vocab:\n",
    "    num_words[vocab[key]] += 1\n",
    "    \n",
    "plt.plot(freq,num_words)\n",
    "plt.axis([1, 10, 0, 20000])\n",
    "plt.xlabel(\"Frequency\")\n",
    "plt.ylabel(\"No of words\")\n",
    "plt.grid()\n",
    "plt.show()"
   ]
  },
  {
   "cell_type": "code",
   "execution_count": 9,
   "id": "7763d334",
   "metadata": {},
   "outputs": [
    {
     "name": "stdout",
     "output_type": "stream",
     "text": [
      "Number of words with frequency higher than cutoff frequency(80) : 4055\n"
     ]
    }
   ],
   "source": [
    "cutoff_freq = 80\n",
    "# For deciding cutoff frequency\n",
    "\n",
    "num_words_above_cutoff = len(vocab)-sum(num_words[0:cutoff_freq]) \n",
    "print(\"Number of words with frequency higher than cutoff frequency({}) :\".format(cutoff_freq),num_words_above_cutoff)"
   ]
  },
  {
   "cell_type": "code",
   "execution_count": 10,
   "id": "160e7078",
   "metadata": {},
   "outputs": [],
   "source": [
    "# Feature Set\n",
    "# Words with frequency higher than cutoff frequency are chosen as features\n",
    "# (i.e we remove words with low frequencies as they would not be significant)\n",
    "\n",
    "features = []\n",
    "for key in vocab:\n",
    "    if vocab[key] >= cutoff_freq:\n",
    "        features.append(key)"
   ]
  },
  {
   "cell_type": "code",
   "execution_count": 11,
   "id": "4a3bb71c",
   "metadata": {},
   "outputs": [],
   "source": [
    "# To represent training data as word vector counts\n",
    "\n",
    "X_train_dataset = np.zeros((len(X_train),len(features)))\n",
    "for i in range(len(X_train)):\n",
    "    word_list = [word.strip(string.punctuation).lower() for word in X_train[i][1].split()]\n",
    "    for word in word_list:\n",
    "        if word in features:\n",
    "            X_train_dataset[i][features.index(word)] += 1"
   ]
  },
  {
   "cell_type": "code",
   "execution_count": 12,
   "id": "a627014c",
   "metadata": {},
   "outputs": [],
   "source": [
    "# To represent test data as word vector counts\n",
    "\n",
    "X_test_dataset = np.zeros((len(X_test),len(features)))\n",
    "for i in range(len(X_test)):\n",
    "    word_list = [ word.strip(string.punctuation).lower() for word in X_test[i][1].split()]\n",
    "    for word in word_list:\n",
    "        if word in features:\n",
    "            X_test_dataset[i][features.index(word)] += 1"
   ]
  },
  {
   "cell_type": "code",
   "execution_count": 13,
   "id": "29b3eede",
   "metadata": {},
   "outputs": [
    {
     "name": "stdout",
     "output_type": "stream",
     "text": [
      "Sklearn's score on training data : 0.9065146362605855\n",
      "Sklearn's score on testing data : 0.861\n",
      "Classification report for testing data :-\n",
      "                          precision    recall  f1-score   support\n",
      "\n",
      "             alt.atheism       0.73      0.80      0.77       233\n",
      "           comp.graphics       0.78      0.79      0.79       253\n",
      " comp.os.ms-windows.misc       0.83      0.82      0.83       249\n",
      "comp.sys.ibm.pc.hardware       0.81      0.88      0.84       240\n",
      "   comp.sys.mac.hardware       0.85      0.92      0.89       236\n",
      "          comp.windows.x       0.93      0.83      0.88       240\n",
      "            misc.forsale       0.81      0.87      0.84       261\n",
      "               rec.autos       0.90      0.92      0.91       269\n",
      "         rec.motorcycles       0.90      0.97      0.93       284\n",
      "      rec.sport.baseball       0.99      0.97      0.98       248\n",
      "        rec.sport.hockey       0.97      0.99      0.98       231\n",
      "               sci.crypt       0.96      0.90      0.93       233\n",
      "         sci.electronics       0.88      0.86      0.87       244\n",
      "                 sci.med       0.95      0.89      0.92       256\n",
      "               sci.space       0.92      0.92      0.92       246\n",
      "  soc.religion.christian       0.93      0.98      0.95       252\n",
      "      talk.politics.guns       0.74      0.89      0.81       249\n",
      "   talk.politics.mideast       0.94      0.89      0.91       281\n",
      "      talk.politics.misc       0.72      0.62      0.67       259\n",
      "      talk.religion.misc       0.66      0.47      0.55       236\n",
      "\n",
      "                accuracy                           0.86      5000\n",
      "               macro avg       0.86      0.86      0.86      5000\n",
      "            weighted avg       0.86      0.86      0.86      5000\n",
      "\n"
     ]
    }
   ],
   "source": [
    "# Using sklearn's Multinomial Naive Bayes\n",
    "from sklearn.naive_bayes import MultinomialNB\n",
    "from sklearn.metrics import classification_report\n",
    "\n",
    "clf = MultinomialNB()\n",
    "clf.fit(X_train_dataset,Y_train)\n",
    "Y_test_pred = clf.predict(X_test_dataset)\n",
    "sklearn_score_train = clf.score(X_train_dataset,Y_train)\n",
    "print(\"Sklearn's score on training data :\",sklearn_score_train)\n",
    "\n",
    "sklearn_score_test = clf.score(X_test_dataset,Y_test)\n",
    "print(\"Sklearn's score on testing data :\",sklearn_score_test)\n",
    "\n",
    "print(\"Classification report for testing data :-\")\n",
    "print(classification_report(Y_test, Y_test_pred))"
   ]
  },
  {
   "cell_type": "code",
   "execution_count": 14,
   "id": "416606f6",
   "metadata": {},
   "outputs": [],
   "source": [
    "class MultinomialNaiveBayes:\n",
    "\n",
    "    def __init__(self):\n",
    "        # count is a dictionary which stores several dictionaries corresponding to each news category\n",
    "        # each value in the subdictionary represents the freq of the key corresponding to that news category \n",
    "        self.count = {}\n",
    "        # classes represents the different news categories\n",
    "        self.classes = None\n",
    "\n",
    "    def fit(self,X_train,Y_train):     \n",
    "        self.classes = set(Y_train)\n",
    "        for class_ in self.classes:\n",
    "            self.count[class_] = {}\n",
    "            for i in range(len(X_train[0])):\n",
    "                self.count[class_][i] = 0\n",
    "            self.count[class_]['total'] = 0\n",
    "            self.count[class_]['total_points'] = 0\n",
    "        self.count['total_points'] = len(X_train)\n",
    "\n",
    "        for i in range(len(X_train)):\n",
    "            for j in range(len(X_train[0])):\n",
    "                self.count[Y_train[i]][j]+=X_train[i][j]\n",
    "                self.count[Y_train[i]]['total']+=X_train[i][j]\n",
    "            self.count[Y_train[i]]['total_points']+=1\n",
    "\n",
    "    def __probability(self,test_point,class_):\n",
    "\n",
    "        log_prob = np.log(self.count[class_]['total_points']) - np.log(self.count['total_points'])\n",
    "        total_words = len(test_point)\n",
    "        for i in range(len(test_point)):\n",
    "            current_word_prob = test_point[i]*(np.log(self.count[class_][i]+1)-np.log(self.count[class_]['total']+total_words))\n",
    "            log_prob += current_word_prob\n",
    "\n",
    "        return log_prob\n",
    "\n",
    "\n",
    "    def __predictSinglePoint(self,test_point):\n",
    "\n",
    "        best_class = None\n",
    "        best_prob = None\n",
    "        first_run = True\n",
    "\n",
    "        for class_ in self.classes:\n",
    "            log_probability_current_class = self.__probability(test_point,class_)\n",
    "            if (first_run) or (log_probability_current_class > best_prob) :\n",
    "                best_class = class_\n",
    "                best_prob = log_probability_current_class\n",
    "                first_run = False\n",
    "\n",
    "        return best_class\n",
    "\n",
    "\n",
    "    def predict(self,X_test):\n",
    "        Y_pred = [] \n",
    "        for i in range(len(X_test)):\n",
    "        # print(i) # Uncomment to see progress\n",
    "            Y_pred.append( self.__predictSinglePoint(X_test[i]) )\n",
    "\n",
    "        return Y_pred\n",
    "\n",
    "    def score(self,Y_pred,Y_true):\n",
    "        # returns the mean accuracy\n",
    "        count = 0\n",
    "        for i in range(len(Y_pred)):\n",
    "            if Y_pred[i] == Y_true[i]:\n",
    "                count+=1\n",
    "        return count/len(Y_pred)"
   ]
  },
  {
   "cell_type": "code",
   "execution_count": 15,
   "id": "76ab683c",
   "metadata": {},
   "outputs": [
    {
     "name": "stdout",
     "output_type": "stream",
     "text": [
      "Our score on testing data : 0.861\n",
      "Classification report for testing data :-\n",
      "                          precision    recall  f1-score   support\n",
      "\n",
      "             alt.atheism       0.73      0.80      0.77       233\n",
      "           comp.graphics       0.78      0.79      0.79       253\n",
      " comp.os.ms-windows.misc       0.83      0.82      0.83       249\n",
      "comp.sys.ibm.pc.hardware       0.81      0.88      0.84       240\n",
      "   comp.sys.mac.hardware       0.85      0.92      0.89       236\n",
      "          comp.windows.x       0.93      0.83      0.88       240\n",
      "            misc.forsale       0.81      0.87      0.84       261\n",
      "               rec.autos       0.90      0.92      0.91       269\n",
      "         rec.motorcycles       0.90      0.97      0.93       284\n",
      "      rec.sport.baseball       0.99      0.97      0.98       248\n",
      "        rec.sport.hockey       0.97      0.99      0.98       231\n",
      "               sci.crypt       0.96      0.90      0.93       233\n",
      "         sci.electronics       0.88      0.86      0.87       244\n",
      "                 sci.med       0.95      0.89      0.92       256\n",
      "               sci.space       0.92      0.92      0.92       246\n",
      "  soc.religion.christian       0.93      0.98      0.95       252\n",
      "      talk.politics.guns       0.74      0.89      0.81       249\n",
      "   talk.politics.mideast       0.94      0.89      0.91       281\n",
      "      talk.politics.misc       0.72      0.62      0.67       259\n",
      "      talk.religion.misc       0.66      0.47      0.55       236\n",
      "\n",
      "                accuracy                           0.86      5000\n",
      "               macro avg       0.86      0.86      0.86      5000\n",
      "            weighted avg       0.86      0.86      0.86      5000\n",
      "\n"
     ]
    }
   ],
   "source": [
    "clf2 = MultinomialNaiveBayes()\n",
    "clf2.fit(X_train_dataset,Y_train)\n",
    "Y_test_pred = clf2.predict(X_test_dataset)\n",
    "our_score_test = clf2.score(Y_test_pred,Y_test)  \n",
    "print(\"Our score on testing data :\",our_score_test)\n",
    "print(\"Classification report for testing data :-\")\n",
    "print(classification_report(Y_test, Y_test_pred))"
   ]
  },
  {
   "cell_type": "code",
   "execution_count": 16,
   "id": "6dc5ca82",
   "metadata": {},
   "outputs": [
    {
     "name": "stdout",
     "output_type": "stream",
     "text": [
      "Score of our model on test data: 0.861\n",
      "Score of inbuilt sklearn's MultinomialNB on the same data : 0.861\n"
     ]
    }
   ],
   "source": [
    "print(\"Score of our model on test data:\",our_score_test)\n",
    "print(\"Score of inbuilt sklearn's MultinomialNB on the same data :\",sklearn_score_test)"
   ]
  },
  {
   "cell_type": "code",
   "execution_count": null,
   "id": "0d941995",
   "metadata": {},
   "outputs": [],
   "source": []
  }
 ],
 "metadata": {
  "kernelspec": {
   "display_name": "Python 3 (ipykernel)",
   "language": "python",
   "name": "python3"
  },
  "language_info": {
   "codemirror_mode": {
    "name": "ipython",
    "version": 3
   },
   "file_extension": ".py",
   "mimetype": "text/x-python",
   "name": "python",
   "nbconvert_exporter": "python",
   "pygments_lexer": "ipython3",
   "version": "3.10.9"
  }
 },
 "nbformat": 4,
 "nbformat_minor": 5
}
